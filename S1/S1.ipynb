{
 "cells": [
  {
   "cell_type": "markdown",
   "id": "ba7e33b7",
   "metadata": {},
   "source": [
    "## Задание 1"
   ]
  },
  {
   "cell_type": "markdown",
   "id": "6faacbda",
   "metadata": {},
   "source": [
    "### 1.1 Соедините два словоря в один"
   ]
  },
  {
   "cell_type": "code",
   "execution_count": 4,
   "id": "6bf3af8b",
   "metadata": {},
   "outputs": [],
   "source": [
    "dict1 = {'One':1, 'Two': 2, ' Three': 3}\n",
    "dict2 = {'Four': 4, 'Five': 5, 'Six': 6}"
   ]
  },
  {
   "cell_type": "markdown",
   "id": "cf1cc637",
   "metadata": {},
   "source": [
    "### 1.2 Напишите функцию, котрорая на вход принимает два словоря и возвращает один объединнный словарь"
   ]
  },
  {
   "cell_type": "code",
   "execution_count": null,
   "id": "a70bbe0a",
   "metadata": {},
   "outputs": [],
   "source": [
    "def sumdict (di1: dict, di2: dict) -> dict:\n",
    "    result = di1\n",
    "    for k, v in di2.items():\n",
    "        result.setdefault(k,v)\n",
    "    return result\n",
    "        "
   ]
  },
  {
   "cell_type": "code",
   "execution_count": null,
   "id": "e143dd86",
   "metadata": {},
   "outputs": [
    {
     "data": {
      "text/plain": [
       "{'One': 1, 'Two': 2, ' Three': 3, 'Four': 4, 'Five': 5, 'Six': 6}"
      ]
     },
     "execution_count": 6,
     "metadata": {},
     "output_type": "execute_result"
    }
   ],
   "source": [
    "sumdict(dict1, dict2)"
   ]
  },
  {
   "cell_type": "code",
   "execution_count": null,
   "id": "0d7c0f95",
   "metadata": {},
   "outputs": [],
   "source": [
    "def sumdict1 (di1: dict, di2: dict) -> dict:\n",
    "    return di1|di2"
   ]
  },
  {
   "cell_type": "code",
   "execution_count": 8,
   "id": "8be23b35",
   "metadata": {},
   "outputs": [
    {
     "data": {
      "text/plain": [
       "{'One': 1, 'Two': 2, ' Three': 3, 'Four': 4, 'Five': 5, 'Six': 6}"
      ]
     },
     "execution_count": 8,
     "metadata": {},
     "output_type": "execute_result"
    }
   ],
   "source": [
    "sumdict1(dict1, dict2)"
   ]
  },
  {
   "cell_type": "code",
   "execution_count": 9,
   "id": "b59a15e0",
   "metadata": {},
   "outputs": [],
   "source": [
    "def sumdict2 (di1: dict, di2: dict) -> dict:\n",
    "    result = di1\n",
    "    result.update(di2)\n",
    "    return result"
   ]
  },
  {
   "cell_type": "code",
   "execution_count": 10,
   "id": "d33aef15",
   "metadata": {},
   "outputs": [
    {
     "data": {
      "text/plain": [
       "{'One': 1, 'Two': 2, ' Three': 3, 'Four': 4, 'Five': 5, 'Six': 6}"
      ]
     },
     "execution_count": 10,
     "metadata": {},
     "output_type": "execute_result"
    }
   ],
   "source": [
    "sumdict2(dict1, dict2)"
   ]
  },
  {
   "cell_type": "markdown",
   "id": "cea297d4",
   "metadata": {},
   "source": [
    "## Задание 2\n",
    "Напишите функцию, которая из двух списков, делает один словарь, где элементы из первого списка ключи, а эелементы втрорго списка - значения"
   ]
  },
  {
   "cell_type": "code",
   "execution_count": 11,
   "id": "e521e904",
   "metadata": {},
   "outputs": [],
   "source": [
    "keys = ['One', 'Two', 'Three']\n",
    "values = [1,2,3]"
   ]
  },
  {
   "cell_type": "markdown",
   "id": "0179ea39",
   "metadata": {},
   "source": [
    "### 2.1 Используйте цикл for"
   ]
  },
  {
   "cell_type": "code",
   "execution_count": 34,
   "id": "976dcef6",
   "metadata": {},
   "outputs": [],
   "source": [
    "def doDict (keys: list, values: list) -> dict:\n",
    "    result = {}\n",
    "    for i in range(len(keys)):\n",
    "        result.setdefault(keys[i], values[i])\n",
    "    return result"
   ]
  },
  {
   "cell_type": "code",
   "execution_count": 35,
   "id": "a9b3bb6a",
   "metadata": {},
   "outputs": [
    {
     "data": {
      "text/plain": [
       "{'One': 1, 'Two': 2, 'Three': 3}"
      ]
     },
     "execution_count": 35,
     "metadata": {},
     "output_type": "execute_result"
    }
   ],
   "source": [
    "doDict(keys,values)"
   ]
  },
  {
   "cell_type": "markdown",
   "id": "0c4c42cf",
   "metadata": {},
   "source": [
    "### Используя dict comprehensions"
   ]
  },
  {
   "cell_type": "code",
   "execution_count": 40,
   "id": "bbc94662",
   "metadata": {},
   "outputs": [],
   "source": [
    "def doDict1 (keys: list, values: list) -> dict:\n",
    "    result = {keys[i]:values[i] for i in range(len(keys))}\n",
    "    return result"
   ]
  },
  {
   "cell_type": "code",
   "execution_count": 41,
   "id": "ae7f1204",
   "metadata": {},
   "outputs": [
    {
     "data": {
      "text/plain": [
       "{'One': 1, 'Two': 2, 'Three': 3}"
      ]
     },
     "execution_count": 41,
     "metadata": {},
     "output_type": "execute_result"
    }
   ],
   "source": [
    "doDict1(keys,values)"
   ]
  },
  {
   "cell_type": "markdown",
   "id": "8f4531a8",
   "metadata": {},
   "source": [
    "## Задание 3\n",
    "Извлеките только два ключа name и age из представленного\n",
    "словаря\n",
    "\n",
    "Функция на вход принимает:\n",
    "- 🌟 исходный словарь\n",
    "- 🌟 ключи, которые нужно извлечь (аргумент по\n",
    "умолчанию)\n",
    "\n",
    "На выходе словарь с нужными ключами\n",
    "\n",
    "Используйте аннотирование типов"
   ]
  },
  {
   "cell_type": "code",
   "execution_count": 50,
   "id": "bb0c2272",
   "metadata": {},
   "outputs": [],
   "source": [
    "client_data = {\n",
    "    'name': 'John', \n",
    "    'surname': 'Doe',\n",
    "    'age': 32, \n",
    "    'salary': 5000,\n",
    "    'city': 'Moscow'\n",
    "}"
   ]
  },
  {
   "cell_type": "markdown",
   "id": "993320d4",
   "metadata": {},
   "source": [
    "### 3.1 Напишите функцию с циклом for"
   ]
  },
  {
   "cell_type": "code",
   "execution_count": 73,
   "id": "9c722014",
   "metadata": {},
   "outputs": [],
   "source": [
    "def agename (client: dict, key1 = 'name', key2 = 'age') -> dict:\n",
    "    result = {}\n",
    "    for k in client:\n",
    "        if k == key1 or k == key2:\n",
    "            result.setdefault(k, client[k])\n",
    "    return result"
   ]
  },
  {
   "cell_type": "code",
   "execution_count": 74,
   "id": "5b7fd978",
   "metadata": {},
   "outputs": [
    {
     "data": {
      "text/plain": [
       "{'name': 'John', 'age': 32}"
      ]
     },
     "execution_count": 74,
     "metadata": {},
     "output_type": "execute_result"
    }
   ],
   "source": [
    "agename(client_data)"
   ]
  },
  {
   "cell_type": "markdown",
   "id": "406a6ab6",
   "metadata": {},
   "source": [
    "### 3.2 Используя dict comprehensions"
   ]
  },
  {
   "cell_type": "code",
   "execution_count": 75,
   "id": "2bb60c4f",
   "metadata": {},
   "outputs": [],
   "source": [
    "def agename2 (client: dict, key1 = 'name', key2 = 'age') -> dict:\n",
    "    result = {k:client[k] for k in client if k == key1 or k == key2}\n",
    "    return result   "
   ]
  },
  {
   "cell_type": "code",
   "execution_count": 76,
   "id": "238fb148",
   "metadata": {},
   "outputs": [
    {
     "data": {
      "text/plain": [
       "{'name': 'John', 'age': 32}"
      ]
     },
     "execution_count": 76,
     "metadata": {},
     "output_type": "execute_result"
    }
   ],
   "source": [
    "agename2(client_data)"
   ]
  },
  {
   "cell_type": "markdown",
   "id": "1f384ae4",
   "metadata": {},
   "source": [
    "## Задача 4\n",
    "### 4.1 Сгенерируйте случайные числа от 0 до 100 в колличистве 5 штук с помощью модуля random\n",
    "- Зафиксируйте псевдогенерацию, что бы сгенерированные числа всегда были одинаковые\n",
    "- Используйте list comprehesions"
   ]
  },
  {
   "cell_type": "code",
   "execution_count": 137,
   "id": "35207454",
   "metadata": {},
   "outputs": [],
   "source": [
    "import random"
   ]
  },
  {
   "cell_type": "code",
   "execution_count": 147,
   "id": "19782ffd",
   "metadata": {},
   "outputs": [
    {
     "data": {
      "text/plain": [
       "[79, 32, 94, 45, 88]"
      ]
     },
     "execution_count": 147,
     "metadata": {},
     "output_type": "execute_result"
    }
   ],
   "source": [
    "random.seed(5)\n",
    "list = [random.randint(0,100) for _ in range(5)]\n",
    "list"
   ]
  },
  {
   "cell_type": "markdown",
   "id": "5b3daa4d",
   "metadata": {},
   "source": [
    "## Задание 6\n",
    "Напишите функцию, которая принимает любое колличество трат пользователя и считать сумму и среднее\n",
    "- поступают целочисленные значения в любом колличестве\n",
    "- на выходе словарь с ключами суммы трат и средней траты"
   ]
  },
  {
   "cell_type": "code",
   "execution_count": 157,
   "id": "ecb77dcd",
   "metadata": {},
   "outputs": [],
   "source": [
    "def wallet (*args: int) -> dict:\n",
    "    result = {\n",
    "              'Сумма трат': sum(args),\n",
    "              'Средняя трата':round((sum(args)/len(args)),3)\n",
    "             }\n",
    "    return result"
   ]
  },
  {
   "cell_type": "code",
   "execution_count": 159,
   "id": "c01b9491",
   "metadata": {},
   "outputs": [
    {
     "data": {
      "text/plain": [
       "{'Сумма трат': 1002832, 'Средняя трата': 77140.923}"
      ]
     },
     "execution_count": 159,
     "metadata": {},
     "output_type": "execute_result"
    }
   ],
   "source": [
    "wallet(21,23,54,75,87,987,234,1000000,22,11,656,657,5)"
   ]
  },
  {
   "cell_type": "code",
   "execution_count": null,
   "id": "a89d7ada",
   "metadata": {},
   "outputs": [],
   "source": []
  }
 ],
 "metadata": {
  "kernelspec": {
   "display_name": "Python 3.9.7 64-bit",
   "language": "python",
   "name": "python3"
  },
  "language_info": {
   "codemirror_mode": {
    "name": "ipython",
    "version": 3
   },
   "file_extension": ".py",
   "mimetype": "text/x-python",
   "name": "python",
   "nbconvert_exporter": "python",
   "pygments_lexer": "ipython3",
   "version": "3.9.7"
  },
  "vscode": {
   "interpreter": {
    "hash": "6f12380032fa9d0fa0399466ac8eb35d36edbe56f24e8932c0a4a757235b1aa3"
   }
  }
 },
 "nbformat": 4,
 "nbformat_minor": 5
}
