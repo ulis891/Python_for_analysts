{
 "cells": [
  {
   "cell_type": "markdown",
   "id": "4a6a9232",
   "metadata": {},
   "source": [
    "# Домашнее задание к семинару 1\n",
    "\n",
    "***Оформляйте ноутбук, используя эти советы:***\n",
    "- Номер задачи - заголовок 2\n",
    "- Номер подзадачи - заголовок 3\n",
    "\n",
    "***Предоставленные наборы данных оформляйте, как код***"
   ]
  },
  {
   "cell_type": "markdown",
   "id": "70da4e10",
   "metadata": {},
   "source": [
    "## Задание 1\n",
    "На складе лежат разные фрукты в разном количестве.\n",
    "Нужно написать функцию, которая на вход принимает любое количество названий фруктов и их количество, а возвращает общее количество фруктов на складе"
   ]
  },
  {
   "cell_type": "code",
   "execution_count": 48,
   "id": "6c2235f4",
   "metadata": {},
   "outputs": [],
   "source": [
    "def warehouse (**kwargs: 'название фркута и значение колличества') -> int:\n",
    "    return sum(kwargs.values())"
   ]
  },
  {
   "cell_type": "code",
   "execution_count": 49,
   "id": "9b3a1a2f",
   "metadata": {},
   "outputs": [
    {
     "data": {
      "text/plain": [
       "30"
      ]
     },
     "execution_count": 49,
     "metadata": {},
     "output_type": "execute_result"
    }
   ],
   "source": [
    "warehouse(lemon = 5, orange = 10, grape = 15)"
   ]
  },
  {
   "cell_type": "markdown",
   "id": "9adf2398",
   "metadata": {},
   "source": [
    "## Задание 2\n",
    "Дан список с затратами на рекламу. Но в данных есть ошибки, некоторые затраты имеют отрицательную величину. Удалите такие значения из списка и посчитайте суммарные затраты\n",
    "```\n",
    "[100, 125, -90, 345, 655, -1, 0, 200]\n",
    "```\n",
    "Используйте list comprehensions"
   ]
  },
  {
   "cell_type": "code",
   "execution_count": 50,
   "id": "336ed2ce",
   "metadata": {},
   "outputs": [],
   "source": [
    "advcost = [100, 125, -90, 345, 655, -1, 0, 200]"
   ]
  },
  {
   "cell_type": "code",
   "execution_count": 51,
   "id": "614f1097",
   "metadata": {},
   "outputs": [
    {
     "name": "stdout",
     "output_type": "stream",
     "text": [
      "сумарные затраты: 1425\n",
      "[100, 125, 345, 655, 200]\n"
     ]
    }
   ],
   "source": [
    "avdcost_cleen = [i for i in advcost if i >0]\n",
    "print(f'сумарные затраты: {sum(avdcost_cleen)}\\n{avdcost_cleen}')"
   ]
  },
  {
   "cell_type": "markdown",
   "id": "2c5d1422",
   "metadata": {},
   "source": [
    "## Задание 3\n",
    "Даны два списка.\n",
    "\n",
    "Дата покупки\n",
    "```\n",
    "['2021-09-14', '2021-12-15', '2021-09-08', '2021-12-05', '2021-10-09', '2021-09-30', '2021-12-22', '2021-11-29', '2021-12-24', '2021-11-26', '2021-10-27', '2021-12-18', '2021-11-09', '2021-11-23', '2021-09-27', '2021-10-02', '2021-12-27', '2021-09-20', '2021-12-13', '2021-11-01', '2021-11-09', '2021-12-06', '2021-12-08', '2021-10-09', '2021-10-31', '2021-09-30', '2021-11-09', '2021-12-13', '2021-10-26', '2021-12-09']\n",
    "```\n",
    "Суммы покупок по датам\n",
    "```\n",
    "[1270, 8413, 9028, 3703, 5739, 4095, 295, 4944, 5723, 3701, 4471, 651, 7037, 4274, 6275, 4988, 6930, 2971, 6592, 2004, 2822, 519, 3406, 2732, 5015, 2008, 316, 6333, 5700, 2887]\n",
    "```"
   ]
  },
  {
   "cell_type": "markdown",
   "id": "0aa711a5",
   "metadata": {},
   "source": [
    "### 3.1 Найдите, какая выручка у компании в ноябре\n",
    "Используйте list comprehensions"
   ]
  },
  {
   "cell_type": "code",
   "execution_count": 75,
   "id": "d8a42a2d",
   "metadata": {},
   "outputs": [],
   "source": [
    "date = ['2021-09-14', '2021-12-15', '2021-09-08', '2021-12-05', '2021-10-09', '2021-09-30', '2021-12-22',\n",
    "        '2021-11-29', '2021-12-24', '2021-11-26', '2021-10-27', '2021-12-18', '2021-11-09', '2021-11-23',\n",
    "        '2021-09-27', '2021-10-02', '2021-12-27', '2021-09-20', '2021-12-13', '2021-11-01', '2021-11-09',\n",
    "        '2021-12-06', '2021-12-08', '2021-10-09', '2021-10-31', '2021-09-30', '2021-11-09', '2021-12-13',\n",
    "        '2021-10-26', '2021-12-09']\n",
    "\n",
    "amount = [1270, 8413, 9028, 3703, 5739, 4095, 295, 4944, 5723, 3701, 4471, 651, 7037, 4274, 6275, 4988,\n",
    "          6930, 2971, 6592, 2004, 2822, 519, 3406, 2732, 5015, 2008, 316, 6333, 5700, 2887]"
   ]
  },
  {
   "cell_type": "markdown",
   "id": "6fa035f1",
   "metadata": {},
   "source": [
    "#### list comprehensions:"
   ]
  },
  {
   "cell_type": "code",
   "execution_count": 146,
   "id": "0a4d8b3b",
   "metadata": {},
   "outputs": [
    {
     "name": "stdout",
     "output_type": "stream",
     "text": [
      "операции в ноябре: [4944, 3701, 7037, 4274, 2004, 2822, 316]\n",
      "выручка: 25098\n"
     ]
    }
   ],
   "source": [
    "united_data_list = zip(date,amount)\n",
    "nov_list = [i[1] for i in united_data_list if '-11-' in i[0]]\n",
    "print(f'операции в ноябре: {nov_list}\\nвыручка: {sum(nov_list)}')"
   ]
  },
  {
   "cell_type": "markdown",
   "id": "d7fd20fc",
   "metadata": {},
   "source": [
    "#### dict comprehensions:"
   ]
  },
  {
   "cell_type": "code",
   "execution_count": 147,
   "id": "72d65541",
   "metadata": {},
   "outputs": [],
   "source": [
    "united_data_dict = {}\n",
    "for i in range(len(date)):\n",
    "    if date[i] in united_data_dict:\n",
    "        united_data_dict[date[i]] += amount[i]\n",
    "    else:\n",
    "        united_data_dict.update({date[i]:amount[i]})"
   ]
  },
  {
   "cell_type": "code",
   "execution_count": 148,
   "id": "60b249d6",
   "metadata": {},
   "outputs": [
    {
     "name": "stdout",
     "output_type": "stream",
     "text": [
      "операции в ноябре: {'2021-11-29': 4944, '2021-11-26': 3701, '2021-11-09': 10175, '2021-11-23': 4274, '2021-11-01': 2004}\n",
      "выручка: 25098\n"
     ]
    }
   ],
   "source": [
    "nov_dict = {i:united_data_dict[i] for i in united_data_dict if '-11-' in i}\n",
    "print(f'операции в ноябре: {nov_dict}\\nвыручка: {sum(nov_dict.values())}')"
   ]
  },
  {
   "cell_type": "markdown",
   "id": "db02b8fb",
   "metadata": {},
   "source": [
    "### 3.2 Найдите выручку компании в зависимости от месяца\n",
    "Для этого напишите функцию, которая на вход принимает список с датами и список с выручкой, а на выходе словарь, где ключи - это месяцы, а значения - это выручка."
   ]
  },
  {
   "cell_type": "code",
   "execution_count": 171,
   "id": "6e5cef68",
   "metadata": {},
   "outputs": [],
   "source": [
    "def auditor (data: list, revenue: list) -> dict:\n",
    "    separator_data_list = []\n",
    "    for a in data:\n",
    "        separator_data_list.append(a.split('-'))\n",
    "\n",
    "    result = {}\n",
    "    for j in range(len(separator_data_list)):\n",
    "        if separator_data_list[j][1] not in result:\n",
    "            result.update({separator_data_list[j][1]: revenue[j]})\n",
    "        else:\n",
    "            result.update({separator_data_list[j][1]: result[separator_data_list[j][1]] + revenue[j]})\n",
    "    print(result)"
   ]
  },
  {
   "cell_type": "code",
   "execution_count": 172,
   "id": "ced1558c",
   "metadata": {},
   "outputs": [
    {
     "name": "stdout",
     "output_type": "stream",
     "text": [
      "{'09': 25647, '12': 45452, '10': 28645, '11': 25098}\n"
     ]
    }
   ],
   "source": [
    "auditor(date, amount)"
   ]
  }
 ],
 "metadata": {
  "kernelspec": {
   "display_name": "Python 3.9.7 64-bit",
   "language": "python",
   "name": "python3"
  },
  "language_info": {
   "codemirror_mode": {
    "name": "ipython",
    "version": 3
   },
   "file_extension": ".py",
   "mimetype": "text/x-python",
   "name": "python",
   "nbconvert_exporter": "python",
   "pygments_lexer": "ipython3",
   "version": "3.9.7"
  },
  "vscode": {
   "interpreter": {
    "hash": "6f12380032fa9d0fa0399466ac8eb35d36edbe56f24e8932c0a4a757235b1aa3"
   }
  }
 },
 "nbformat": 4,
 "nbformat_minor": 5
}
